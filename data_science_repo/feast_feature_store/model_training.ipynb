{
 "cells": [
  {
   "cell_type": "code",
   "execution_count": 1,
   "outputs": [],
   "source": [
    "# Why do I use notebook right inside the feast_feature_store folder?\n",
    "# because If I move it outside the repo folder, I'll get the 'FileNotFound' error.\n",
    "# looks like Feast rn cannot understand that notebooks might call the repo outside of the folder -> doesnt append paths.\n",
    "# The workaround is to use push server and get historical features as online features"
   ],
   "metadata": {
    "collapsed": false
   }
  },
  {
   "cell_type": "code",
   "execution_count": 2,
   "outputs": [
    {
     "ename": "ModuleNotFoundError",
     "evalue": "No module named 'feast'",
     "output_type": "error",
     "traceback": [
      "\u001B[0;31m---------------------------------------------------------------------------\u001B[0m",
      "\u001B[0;31mModuleNotFoundError\u001B[0m                       Traceback (most recent call last)",
      "Cell \u001B[0;32mIn [2], line 1\u001B[0m\n\u001B[0;32m----> 1\u001B[0m \u001B[38;5;28;01mimport\u001B[39;00m \u001B[38;5;21;01mfeast\u001B[39;00m\n\u001B[1;32m      2\u001B[0m \u001B[38;5;28;01mimport\u001B[39;00m \u001B[38;5;21;01mjoblib\u001B[39;00m\n\u001B[1;32m      3\u001B[0m \u001B[38;5;28;01mimport\u001B[39;00m \u001B[38;5;21;01mpandas\u001B[39;00m \u001B[38;5;28;01mas\u001B[39;00m \u001B[38;5;21;01mpd\u001B[39;00m\n",
      "\u001B[0;31mModuleNotFoundError\u001B[0m: No module named 'feast'"
     ]
    }
   ],
   "source": [
    "import feast\n",
    "import joblib\n",
    "import pandas as pd\n",
    "from datetime import datetime\n",
    "from sklearn import LGBMClassifier\n",
    "entity_df = pd.read_parquet('data/titanic_train_file_source.parquet')\n",
    "\n",
    "fs = feast.FeatureStore(repo_path=\".\")\n",
    "entity_df['event_timestamp'] = datetime(2022,1,15,2,59,50)\n",
    "training_df = fs.get_historical_features(\n",
    "    entity_df=entity_df[['PassengerId', 'event_timestamp']],\n",
    "    features=[\n",
    "        \"passenger_stats:Survived\",\n",
    "        \"passenger_stats:Pclass\",\n",
    "        \"passenger_stats:Fare\",\n",
    "    ],\n",
    ").to_df()\n"
   ],
   "metadata": {
    "collapsed": false
   }
  },
  {
   "cell_type": "code",
   "execution_count": 19,
   "outputs": [],
   "source": [
    "cols_to_drop = ['PassengerId', 'event_timestamp', 'Survived']\n",
    "X = training_df.drop(columns=cols_to_drop)\n",
    "y = training_df['Survived']\n",
    "model = LGBMClassifier(random_state=14).fit(X, y)"
   ],
   "metadata": {
    "collapsed": false
   }
  },
  {
   "cell_type": "code",
   "execution_count": null,
   "outputs": [],
   "source": [],
   "metadata": {
    "collapsed": false
   }
  },
  {
   "cell_type": "code",
   "execution_count": null,
   "outputs": [],
   "source": [],
   "metadata": {
    "collapsed": false
   }
  },
  {
   "cell_type": "code",
   "execution_count": null,
   "outputs": [],
   "source": [],
   "metadata": {
    "collapsed": false
   }
  }
 ],
 "metadata": {
  "kernelspec": {
   "display_name": "Python 3",
   "language": "python",
   "name": "python3"
  },
  "language_info": {
   "codemirror_mode": {
    "name": "ipython",
    "version": 2
   },
   "file_extension": ".py",
   "mimetype": "text/x-python",
   "name": "python",
   "nbconvert_exporter": "python",
   "pygments_lexer": "ipython2",
   "version": "2.7.6"
  }
 },
 "nbformat": 4,
 "nbformat_minor": 0
}
