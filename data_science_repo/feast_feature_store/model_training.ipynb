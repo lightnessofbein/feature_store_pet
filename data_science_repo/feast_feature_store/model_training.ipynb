{
 "cells": [
  {
   "cell_type": "code",
   "execution_count": 1,
   "outputs": [],
   "source": [
    "# Why do I use notebook right inside the feast_feature_store folder?\n",
    "# because If I move it outside the repo folder, I'll get the 'FileNotFound' error.\n",
    "# looks like Feast rn cannot understand that notebooks might call the repo outside of the folder -> doesnt append paths.\n",
    "# The workaround is to use push server and get historical features as online features"
   ],
   "metadata": {
    "collapsed": false
   }
  },
  {
   "cell_type": "code",
   "execution_count": 70,
   "outputs": [],
   "source": [
    "import feast\n",
    "import pickle\n",
    "import pandas as pd\n",
    "from datetime import datetime\n",
    "from sklearn.ensemble import RandomForestClassifier\n",
    "entity_df = pd.read_parquet('data/titanic_train_file_source.parquet')"
   ],
   "metadata": {
    "collapsed": false
   }
  },
  {
   "cell_type": "code",
   "execution_count": 71,
   "outputs": [
    {
     "data": {
      "text/plain": "(2663, 13)"
     },
     "execution_count": 71,
     "metadata": {},
     "output_type": "execute_result"
    }
   ],
   "source": [
    "entity_df.shape"
   ],
   "metadata": {
    "collapsed": false
   }
  },
  {
   "cell_type": "code",
   "execution_count": 46,
   "outputs": [
    {
     "name": "stderr",
     "output_type": "stream",
     "text": [
      "/Users/sfeda/Projects/feature_store_pet/.venv/lib/python3.10/site-packages/feast/repo_config.py:211: RuntimeWarning: `entity_key_serialization_version` is either not specified in the feature_store.yaml, or is specified to a value <= 1.This serialization version may cause errors when trying to write fields with the `Long` data type into the online store. Specifying `entity_key_serialization_version` to 2 is recommended for new projects. \n",
      "  warnings.warn(\n"
     ]
    }
   ],
   "source": [
    "import feast\n",
    "import pickle\n",
    "import pandas as pd\n",
    "from datetime import datetime\n",
    "from sklearn.ensemble import RandomForestClassifier\n",
    "entity_df = pd.read_parquet('data/titanic_train_file_source.parquet')\n",
    "\n",
    "fs = feast.FeatureStore(repo_path=\".\")\n",
    "entity_df['event_timestamp'] = datetime(2022,1,15,2,59,50)\n",
    "training_df = fs.get_historical_features(\n",
    "    entity_df=entity_df[['PassengerId', 'event_timestamp']],\n",
    "    features=[\n",
    "        \"passenger_stats:Survived\",\n",
    "        \"passenger_stats:Pclass\",\n",
    "        \"passenger_stats:Fare\",\n",
    "    ],\n",
    ").to_df()"
   ],
   "metadata": {
    "collapsed": false
   }
  },
  {
   "cell_type": "code",
   "execution_count": 47,
   "outputs": [],
   "source": [
    "test =\n",
    "training_df = fs.get_historical_features(\n",
    "    entity_df=entity_df[['PassengerId', 'event_timestamp']],\n",
    "    features=[\n",
    "        \"passenger_stats:Survived\",\n",
    "        \"passenger_stats:Pclass\",\n",
    "        \"passenger_stats:Fare\",\n",
    "    ],\n",
    ").to_df()"
   ],
   "metadata": {
    "collapsed": false
   }
  },
  {
   "cell_type": "code",
   "execution_count": 69,
   "outputs": [
    {
     "data": {
      "text/plain": "   PassengerId  Survived  Fare  Pclass\n0         1800       0.0  85.0     1.0\n1            3       NaN   NaN     NaN",
      "text/html": "<div>\n<style scoped>\n    .dataframe tbody tr th:only-of-type {\n        vertical-align: middle;\n    }\n\n    .dataframe tbody tr th {\n        vertical-align: top;\n    }\n\n    .dataframe thead th {\n        text-align: right;\n    }\n</style>\n<table border=\"1\" class=\"dataframe\">\n  <thead>\n    <tr style=\"text-align: right;\">\n      <th></th>\n      <th>PassengerId</th>\n      <th>Survived</th>\n      <th>Fare</th>\n      <th>Pclass</th>\n    </tr>\n  </thead>\n  <tbody>\n    <tr>\n      <th>0</th>\n      <td>1800</td>\n      <td>0.0</td>\n      <td>85.0</td>\n      <td>1.0</td>\n    </tr>\n    <tr>\n      <th>1</th>\n      <td>3</td>\n      <td>NaN</td>\n      <td>NaN</td>\n      <td>NaN</td>\n    </tr>\n  </tbody>\n</table>\n</div>"
     },
     "execution_count": 69,
     "metadata": {},
     "output_type": "execute_result"
    }
   ],
   "source": [
    "fs.get_online_features(\n",
    "    entity_rows=[{'PassengerId': 1800},\n",
    "                 {'PassengerId': 3}],\n",
    "    features=[\n",
    "        \"passenger_stats:Survived\",\n",
    "        \"passenger_stats:Pclass\",\n",
    "        \"passenger_stats:Fare\",\n",
    "    ],\n",
    ").to_df()"
   ],
   "metadata": {
    "collapsed": false
   }
  },
  {
   "cell_type": "code",
   "execution_count": 7,
   "outputs": [],
   "source": [
    "cols_to_drop = ['PassengerId', 'event_timestamp', 'Survived']\n",
    "X = training_df.drop(columns=cols_to_drop)\n",
    "y = training_df['Survived']\n",
    "model = RandomForestClassifier(random_state=14).fit(X, y)\n"
   ],
   "metadata": {
    "collapsed": false
   }
  },
  {
   "cell_type": "code",
   "execution_count": 10,
   "outputs": [],
   "source": [
    "with open('passenger_classifier.pkl', 'wb') as f:\n",
    "    pickle.dump(model, f)"
   ],
   "metadata": {
    "collapsed": false
   }
  },
  {
   "cell_type": "code",
   "execution_count": null,
   "outputs": [],
   "source": [],
   "metadata": {
    "collapsed": false
   }
  }
 ],
 "metadata": {
  "kernelspec": {
   "display_name": "Python 3",
   "language": "python",
   "name": "python3"
  },
  "language_info": {
   "codemirror_mode": {
    "name": "ipython",
    "version": 2
   },
   "file_extension": ".py",
   "mimetype": "text/x-python",
   "name": "python",
   "nbconvert_exporter": "python",
   "pygments_lexer": "ipython2",
   "version": "2.7.6"
  }
 },
 "nbformat": 4,
 "nbformat_minor": 0
}
